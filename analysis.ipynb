{
 "cells": [
  {
   "cell_type": "code",
   "execution_count": 46,
   "metadata": {},
   "outputs": [],
   "source": [
    "import os\n",
    "import json\n",
    "import requests\n",
    "from pprint import pp\n",
    "from time import time\n",
    "import asyncio\n",
    "\n",
    "from joblib import Parallel, delayed\n",
    "import aiohttp\n",
    "import pandas as pd\n",
    "\n",
    "import nest_asyncio\n",
    "nest_asyncio.apply()\n",
    "\n",
    "import warnings\n",
    "warnings.filterwarnings(\"ignore\")"
   ]
  },
  {
   "cell_type": "markdown",
   "metadata": {},
   "source": [
    "### Анализ и поиск аномалий"
   ]
  },
  {
   "cell_type": "code",
   "execution_count": 2,
   "metadata": {},
   "outputs": [],
   "source": [
    "df = pd.read_csv(\"data/temperature_data.csv\")\n",
    "df = df.sort_values(by=[\"city\", \"timestamp\"]).reset_index(drop=True)"
   ]
  },
  {
   "cell_type": "code",
   "execution_count": 3,
   "metadata": {},
   "outputs": [],
   "source": [
    "def analyze_city(city_data):\n",
    "    city_data[\"rolling_mean\"] = (\n",
    "        city_data[\"temperature\"].rolling(window=30, min_periods=1).mean()\n",
    "    )\n",
    "\n",
    "    seasonal_stats = (\n",
    "        city_data.groupby(\"season\")[\"temperature\"].agg([\"mean\", \"std\"]).reset_index()\n",
    "    )\n",
    "    city_data = city_data.merge(seasonal_stats, on=\"season\", how=\"left\")\n",
    "\n",
    "    city_data[\"lower_bound\"] = city_data[\"mean\"] - 2 * city_data[\"std\"]\n",
    "    city_data[\"upper_bound\"] = city_data[\"mean\"] + 2 * city_data[\"std\"]\n",
    "    city_data[\"is_anomaly\"] = ((city_data[\"temperature\"] < city_data[\"lower_bound\"]) | (city_data[\"temperature\"] > city_data[\"upper_bound\"])).astype(int)\n",
    "\n",
    "    return city_data"
   ]
  },
  {
   "cell_type": "code",
   "execution_count": 4,
   "metadata": {},
   "outputs": [],
   "source": [
    "def analyze_data_full(df):\n",
    "    results = []\n",
    "    for city in df[\"city\"].unique():\n",
    "        city_data = df[df[\"city\"] == city]\n",
    "        results.append(analyze_city(city_data))\n",
    "    return pd.concat(results)"
   ]
  },
  {
   "cell_type": "code",
   "execution_count": 5,
   "metadata": {},
   "outputs": [],
   "source": [
    "def analyze_data_parallel(df, n_jobs=-1):\n",
    "    cities = df[\"city\"].unique()\n",
    "    city_data_splits = [df[df[\"city\"] == city] for city in cities]\n",
    "    results = Parallel(n_jobs=n_jobs)(\n",
    "        delayed(analyze_city)(city_data) for city_data in city_data_splits\n",
    "    )\n",
    "    return pd.concat(results)"
   ]
  },
  {
   "cell_type": "markdown",
   "metadata": {},
   "source": [
    "#### Теперь посмотрим на перформанс этих двух подходов"
   ]
  },
  {
   "cell_type": "code",
   "execution_count": 6,
   "metadata": {},
   "outputs": [
    {
     "name": "stdout",
     "output_type": "stream",
     "text": [
      "78.5 ms ± 613 µs per loop (mean ± std. dev. of 7 runs, 10 loops each)\n"
     ]
    }
   ],
   "source": [
    "%%timeit\n",
    "# Последовательно \n",
    "res_serial = analyze_data_full(df)"
   ]
  },
  {
   "cell_type": "code",
   "execution_count": 35,
   "metadata": {},
   "outputs": [
    {
     "name": "stdout",
     "output_type": "stream",
     "text": [
      "70.9 ms ± 951 µs per loop (mean ± std. dev. of 7 runs, 1 loop each)\n"
     ]
    }
   ],
   "source": [
    "%%timeit\n",
    "# Паралеллелим\n",
    "res_parallel = analyze_data_parallel(df)"
   ]
  },
  {
   "cell_type": "markdown",
   "metadata": {},
   "source": [
    "Итого получилось что с распараллеливание оказалось чууть чуть быстрее)"
   ]
  },
  {
   "cell_type": "markdown",
   "metadata": {},
   "source": [
    "### OpenWeatherApi"
   ]
  },
  {
   "cell_type": "code",
   "execution_count": 8,
   "metadata": {},
   "outputs": [
    {
     "data": {
      "text/plain": [
       "True"
      ]
     },
     "execution_count": 8,
     "metadata": {},
     "output_type": "execute_result"
    }
   ],
   "source": [
    "from dotenv import load_dotenv\n",
    "load_dotenv()"
   ]
  },
  {
   "cell_type": "code",
   "execution_count": 11,
   "metadata": {},
   "outputs": [],
   "source": [
    "API_KEY = os.getenv(\"OPENWEATHERKEY\")\n",
    "URL_TEMPLATE = \"https://api.openweathermap.org/data/2.5/weather?q={city}&units=metric&appid={API_KEY}\""
   ]
  },
  {
   "cell_type": "code",
   "execution_count": 42,
   "metadata": {},
   "outputs": [],
   "source": [
    "# @interact\n",
    "def get_current_weather(city=\"Moscow\"):\n",
    "    resp = requests.get(URL_TEMPLATE.format(\n",
    "        city=city,\n",
    "        API_KEY=API_KEY\n",
    "    ))\n",
    "\n",
    "    return json.loads(resp.text)"
   ]
  },
  {
   "cell_type": "code",
   "execution_count": 43,
   "metadata": {},
   "outputs": [
    {
     "name": "stdout",
     "output_type": "stream",
     "text": [
      "{'coord': {'lon': -0.1257, 'lat': 51.5085},\n",
      " 'weather': [{'id': 804,\n",
      "              'main': 'Clouds',\n",
      "              'description': 'overcast clouds',\n",
      "              'icon': '04n'}],\n",
      " 'base': 'stations',\n",
      " 'main': {'temp': 9.68,\n",
      "          'feels_like': 6.62,\n",
      "          'temp_min': 9.06,\n",
      "          'temp_max': 10.08,\n",
      "          'pressure': 1008,\n",
      "          'humidity': 74,\n",
      "          'sea_level': 1008,\n",
      "          'grnd_level': 1003},\n",
      " 'visibility': 10000,\n",
      " 'wind': {'speed': 6.69, 'deg': 240},\n",
      " 'clouds': {'all': 100},\n",
      " 'dt': 1734810606,\n",
      " 'sys': {'type': 2,\n",
      "         'id': 2075535,\n",
      "         'country': 'GB',\n",
      "         'sunrise': 1734768241,\n",
      "         'sunset': 1734796406},\n",
      " 'timezone': 0,\n",
      " 'id': 2643743,\n",
      " 'name': 'London',\n",
      " 'cod': 200}\n"
     ]
    }
   ],
   "source": [
    "pp(get_current_weather(\"London\"))"
   ]
  },
  {
   "cell_type": "code",
   "execution_count": 44,
   "metadata": {},
   "outputs": [
    {
     "data": {
      "text/plain": [
       "{'cod': '404', 'message': 'city not found'}"
      ]
     },
     "execution_count": 44,
     "metadata": {},
     "output_type": "execute_result"
    }
   ],
   "source": [
    "get_current_weather(\"Jopa\")"
   ]
  },
  {
   "cell_type": "markdown",
   "metadata": {},
   "source": [
    "И да, действительно, такого города нету.. Так что все работает корректно)"
   ]
  },
  {
   "cell_type": "code",
   "execution_count": 38,
   "metadata": {},
   "outputs": [],
   "source": [
    "def is_current_weather_anomaly(city=\"Moscow\", df=None):\n",
    "    \n",
    "    resp = requests.get(URL_TEMPLATE.format(\n",
    "        city=city,\n",
    "        API_KEY=API_KEY\n",
    "    ))\n",
    "\n",
    "    curr_temp = json.loads(resp.text)[\"main\"][\"temp\"]\n",
    "    \n",
    "    normal_mean, normal_std = df.loc[\n",
    "            (df.city == city) & (df.season == \"winter\"), [\"mean\", \"std\"]\n",
    "        ].values[0]\n",
    "    \n",
    "    lower_bound = normal_mean - 2 * normal_std\n",
    "    upper_bound = normal_mean + 2 * normal_std\n",
    "\n",
    "    is_anomaly = True if curr_temp > upper_bound or curr_temp < lower_bound else False\n",
    "    \n",
    "    return is_anomaly"
   ]
  },
  {
   "cell_type": "code",
   "execution_count": 36,
   "metadata": {},
   "outputs": [],
   "source": [
    "df_stats = analyze_data_parallel(df)"
   ]
  },
  {
   "cell_type": "code",
   "execution_count": 40,
   "metadata": {},
   "outputs": [
    {
     "name": "stdout",
     "output_type": "stream",
     "text": [
      "Current weather in Beijing is not an anomaly\n",
      "Current weather in Berlin is not an anomaly\n",
      "Current weather in Cairo is not an anomaly\n",
      "Current weather in Dubai is not an anomaly\n",
      "Current weather in London is not an anomaly\n",
      "Current weather in Los Angeles is not an anomaly\n",
      "Current weather in Mexico City is not an anomaly\n",
      "Current weather in Moscow is not an anomaly\n",
      "Current weather in Mumbai is not an anomaly\n",
      "Current weather in New York is not an anomaly\n",
      "Current weather in Paris is not an anomaly\n",
      "Current weather in Rio de Janeiro is not an anomaly\n",
      "Current weather in Singapore is not an anomaly\n",
      "Current weather in Sydney is not an anomaly\n",
      "Current weather in Tokyo is not an anomaly\n"
     ]
    }
   ],
   "source": [
    "for city in df_stats[\"city\"].unique():\n",
    "    anomaly = is_current_weather_anomaly(city=city, df=df_stats)\n",
    "    print(f\"Current weather in {city} is {'' if anomaly else 'not'} an anomaly\")"
   ]
  },
  {
   "cell_type": "markdown",
   "metadata": {},
   "source": [
    "Хм, кажется что все нормально, и погода во всех городах не аномальная!! Кайф)"
   ]
  },
  {
   "cell_type": "code",
   "execution_count": 50,
   "metadata": {},
   "outputs": [
    {
     "name": "stdout",
     "output_type": "stream",
     "text": [
      "На получение последовательно инфы ушло 5.4948s\n"
     ]
    }
   ],
   "source": [
    "start = time()\n",
    "for city in df_stats[\"city\"].unique():\n",
    "    get_current_weather(city)\n",
    "print(f\"На получение инфы последовательно ушло {time() - start:.4f}s\")"
   ]
  },
  {
   "cell_type": "code",
   "execution_count": 51,
   "metadata": {},
   "outputs": [],
   "source": [
    "async def get_weather_async(city):\n",
    "    url = URL_TEMPLATE.format(\n",
    "        city=city,\n",
    "        API_KEY=API_KEY\n",
    "    )\n",
    "    \n",
    "    async with aiohttp.ClientSession() as session:\n",
    "        async with session.get(url) as response:\n",
    "                content = await response.text()\n",
    "                return json.loads(content)"
   ]
  },
  {
   "cell_type": "code",
   "execution_count": 52,
   "metadata": {},
   "outputs": [
    {
     "name": "stdout",
     "output_type": "stream",
     "text": [
      "На получение инфы параллельно ушло: 0.3783s\n"
     ]
    }
   ],
   "source": [
    "start = time()\n",
    "await asyncio.gather(*[get_weather_async(city) for city in df.city.unique()])\n",
    "print(f\"На получение инфы параллельно ушло: {time() - start:.4f}s\")"
   ]
  },
  {
   "cell_type": "markdown",
   "metadata": {},
   "source": [
    "Асинхронная версия оказалась blazingly fast "
   ]
  }
 ],
 "metadata": {
  "kernelspec": {
   "display_name": "base",
   "language": "python",
   "name": "python3"
  },
  "language_info": {
   "codemirror_mode": {
    "name": "ipython",
    "version": 3
   },
   "file_extension": ".py",
   "mimetype": "text/x-python",
   "name": "python",
   "nbconvert_exporter": "python",
   "pygments_lexer": "ipython3",
   "version": "3.11.5"
  }
 },
 "nbformat": 4,
 "nbformat_minor": 2
}
